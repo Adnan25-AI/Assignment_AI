{
  "nbformat": 4,
  "nbformat_minor": 0,
  "metadata": {
    "colab": {
      "provenance": [],
      "authorship_tag": "ABX9TyOWnmStSEQc/8ZPBu7thgdD",
      "include_colab_link": true
    },
    "kernelspec": {
      "name": "python3",
      "display_name": "Python 3"
    },
    "language_info": {
      "name": "python"
    }
  },
  "cells": [
    {
      "cell_type": "markdown",
      "metadata": {
        "id": "view-in-github",
        "colab_type": "text"
      },
      "source": [
        "<a href=\"https://colab.research.google.com/github/Adnan25-AI/Assignment_AI/blob/main/RockSP.ipynb\" target=\"_parent\"><img src=\"https://colab.research.google.com/assets/colab-badge.svg\" alt=\"Open In Colab\"/></a>"
      ]
    },
    {
      "cell_type": "markdown",
      "source": [
        "Rock, paper, scissors Python Project"
      ],
      "metadata": {
        "id": "KGAcyYtWj_OX"
      }
    },
    {
      "cell_type": "code",
      "source": [
        "# prompt: Rock, paper, scissors Python Project, provide simple program as i m biginner\n",
        "\n",
        "import random\n",
        "\n",
        "def play_rock_paper_scissors():\n",
        "  \"\"\"Plays a game of Rock, Paper, Scissors against the computer.\"\"\"\n",
        "\n",
        "  user_choice = input(\"Enter your choice (rock, paper, or scissors): \").lower()\n",
        "  possible_actions = [\"rock\", \"paper\", \"scissors\"]\n",
        "\n",
        "  if user_choice not in possible_actions:\n",
        "    print(\"Invalid choice. Please enter rock, paper, or scissors.\")\n",
        "    return\n",
        "\n",
        "  computer_choice = random.choice(possible_actions)\n",
        "  print(f\"\\nYou chose {user_choice}, computer chose {computer_choice}.\\n\")\n",
        "\n",
        "  if user_choice == computer_choice:\n",
        "    print(f\"Both players selected {user_choice}. It's a tie!\")\n",
        "  elif user_choice == \"rock\":\n",
        "    if computer_choice == \"scissors\":\n",
        "      print(\"Rock smashes scissors! You win!\")\n",
        "    else:\n",
        "      print(\"Paper covers rock! You lose.\")\n",
        "  elif user_choice == \"paper\":\n",
        "    if computer_choice == \"rock\":\n",
        "      print(\"Paper covers rock! You win!\")\n",
        "    else:\n",
        "      print(\"Scissors cuts paper! You lose.\")\n",
        "  elif user_choice == \"scissors\":\n",
        "    if computer_choice == \"paper\":\n",
        "      print(\"Scissors cuts paper! You win!\")\n",
        "    else:\n",
        "      print(\"Rock smashes scissors! You lose.\")\n",
        "\n",
        "play_rock_paper_scissors()\n"
      ],
      "metadata": {
        "colab": {
          "base_uri": "https://localhost:8080/"
        },
        "id": "tIVTpj_wjctS",
        "outputId": "d1f39c20-430d-4bb9-a27a-f2a28f181436"
      },
      "execution_count": 1,
      "outputs": [
        {
          "output_type": "stream",
          "name": "stdout",
          "text": [
            "Enter your choice (rock, paper, or scissors): rock\n",
            "\n",
            "You chose rock, computer chose scissors.\n",
            "\n",
            "Rock smashes scissors! You win!\n"
          ]
        }
      ]
    }
  ]
}