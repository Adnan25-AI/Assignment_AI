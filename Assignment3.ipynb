{
  "nbformat": 4,
  "nbformat_minor": 0,
  "metadata": {
    "colab": {
      "provenance": [],
      "authorship_tag": "ABX9TyPvIm7byBi/fiqcUHvMY/GL",
      "include_colab_link": true
    },
    "kernelspec": {
      "name": "python3",
      "display_name": "Python 3"
    },
    "language_info": {
      "name": "python"
    }
  },
  "cells": [
    {
      "cell_type": "markdown",
      "metadata": {
        "id": "view-in-github",
        "colab_type": "text"
      },
      "source": [
        "<a href=\"https://colab.research.google.com/github/Adnan25-AI/Assignment_AI/blob/main/Assignment3.ipynb\" target=\"_parent\"><img src=\"https://colab.research.google.com/assets/colab-badge.svg\" alt=\"Open In Colab\"/></a>"
      ]
    },
    {
      "cell_type": "code",
      "execution_count": null,
      "metadata": {
        "id": "0ggjBSNKS5Ym"
      },
      "outputs": [],
      "source": [
        "\"\"\"\n",
        "Very Beginner Python Project by Kylie Ying\n",
        "Madlibs using string concatenation\n",
        "\n",
        "YouTube Kylie Ying: https://www.youtube.com/ycubed\n",
        "Twitch KylieYing: https://www.twitch.tv/kylieying\n",
        "Twitter @kylieyying: https://twitter.com/kylieyying\n",
        "Instagram @kylieyying: https://www.instagram.com/kylieyying/\n",
        "Website: https://www.kylieying.com\n",
        "Github: https://www.github.com/kying18\n",
        "Programmer Beast Mode Spotify playlist: https://open.spotify.com/playlist/4Akns5EUb3gzmlXIdsJkPs?si=qGc4ubKRRYmPHAJAIrCxVQ\n",
        "\"\"\"\n",
        "# # string concatenation (aka how to put strings together)\n",
        "# # suppose we want to create a string that says \"subscribe to _____ \"\n",
        "# youtuber = \"Kylie Ying\" # some string variable\n",
        "\n",
        "# # a few ways to do this\n",
        "# print(\"subscribe to \" + youtuber)\n",
        "# print(\"subscribe to {}\".format(youtuber))\n",
        "# print(f\"subscribe to {youtuber}\")\n",
        "\n",
        "adj = input(\"Adjective: \") # amazing\n",
        "verb1 = input(\"Verb: \") # skydrive\n",
        "verb2 = input(\"Verb: \") # jump\n",
        "famous_person = input(\"Famous person: \") # Captain Pakistan\n",
        "\n",
        "madlib = f\"Computer programming is so {adj}! It makes me so excited all the time because \\\n",
        "I love to {verb1}. Stay hydrated and {verb2} like you are {famous_person}!\"\n",
        "\n",
        "print(madlib)"
      ]
    },
    {
      "cell_type": "code",
      "source": [
        "n = input(\"Noun: \") # Siraj\n",
        "adj = input(\"Adjective: \") # Intellectuals\n",
        "vrb= input(\"Verb: \") # Teaching\n",
        "plc= input(\"Place: \") # PIAIC\n",
        "\n",
        "Madlib= f\"{n} is a very {adj} person. They always like {vrb}, especially in {plc}.\"\n",
        "\n",
        "\n",
        "print(Madlib)"
      ],
      "metadata": {
        "colab": {
          "base_uri": "https://localhost:8080/"
        },
        "id": "K_ShnyXwXUqn",
        "outputId": "49f55504-b56b-4215-ae54-04e587509e45"
      },
      "execution_count": 2,
      "outputs": [
        {
          "output_type": "stream",
          "name": "stdout",
          "text": [
            "Noun: Siraj\n",
            "Adjective: Intellectuals\n",
            "Verb: Teaching\n",
            "Place: PIAIC\n",
            "Siraj is a very Intellectuals person. They always like Teaching, especially in PIAIC.\n"
          ]
        }
      ]
    },
    {
      "cell_type": "code",
      "source": [
        "import random\n",
        "\n",
        "def guess(x):\n",
        "    random_number = random.randint(1, x)\n",
        "    guess = 0\n",
        "    while guess != random_number:\n",
        "        guess = int(input(f'Guess a number between 1 and {x}: '))\n",
        "        if guess < random_number:\n",
        "            print('Sorry, guess again. Too low.')\n",
        "        elif guess > random_number:\n",
        "            print('Sorry, guess again. Too high.')\n",
        "\n",
        "    print(f'Yay, congrats. You have guessed the number {random_number} correctly!!')\n",
        "\n",
        "def computer_guess(x):\n",
        "    low = 1\n",
        "    high = x\n",
        "    feedback = ''\n",
        "    while feedback != 'c':\n",
        "        if low != high:\n",
        "            guess = random.randint(low, high)\n",
        "        else:\n",
        "            guess = low  # could also be high b/c low = high\n",
        "        feedback = input(f'Is {guess} too high (H), too low (L), or correct (C)?? ').lower()\n",
        "        if feedback == 'h':\n",
        "            high = guess - 1\n",
        "        elif feedback == 'l':\n",
        "            low = guess + 1\n",
        "\n",
        "    print(f'Yay! The computer guessed your number, {guess}, correctly!')\n",
        "\n",
        "\n",
        "guess(10)\n",
        "computer_guess(10)\n"
      ],
      "metadata": {
        "colab": {
          "base_uri": "https://localhost:8080/"
        },
        "id": "lQ9kphCVouO-",
        "outputId": "ffbdcb09-b5b1-48ce-bb01-91fe65e7fdc5"
      },
      "execution_count": 10,
      "outputs": [
        {
          "output_type": "stream",
          "name": "stdout",
          "text": [
            "Guess a number between 1 and 10: 6\n",
            "Sorry, guess again. Too low.\n",
            "Guess a number between 1 and 10: 9\n",
            "Sorry, guess again. Too high.\n",
            "Guess a number between 1 and 10: 7\n",
            "Yay, congrats. You have guessed the number 7 correctly!!\n",
            "Is 8 too high (H), too low (L), or correct (C)?? h\n",
            "Is 6 too high (H), too low (L), or correct (C)?? l\n",
            "Is 7 too high (H), too low (L), or correct (C)?? c\n",
            "Yay! The computer guessed your number, 7, correctly!\n"
          ]
        }
      ]
    },
    {
      "cell_type": "code",
      "source": [],
      "metadata": {
        "id": "G4cIOZ7NotyS"
      },
      "execution_count": null,
      "outputs": []
    }
  ]
}