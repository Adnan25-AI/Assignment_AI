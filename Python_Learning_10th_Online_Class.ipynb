{
  "nbformat": 4,
  "nbformat_minor": 0,
  "metadata": {
    "colab": {
      "provenance": [],
      "include_colab_link": true
    },
    "kernelspec": {
      "name": "python3",
      "display_name": "Python 3"
    },
    "language_info": {
      "name": "python"
    }
  },
  "cells": [
    {
      "cell_type": "markdown",
      "metadata": {
        "id": "view-in-github",
        "colab_type": "text"
      },
      "source": [
        "<a href=\"https://colab.research.google.com/github/Adnan25-AI/Assignment_AI/blob/main/Python_Learning_10th_Online_Class.ipynb\" target=\"_parent\"><img src=\"https://colab.research.google.com/assets/colab-badge.svg\" alt=\"Open In Colab\"/></a>"
      ]
    },
    {
      "cell_type": "markdown",
      "source": [
        "## Problem Statement\n",
        "\n",
        "Print 10 random numbers in the range 1 to 100.\n",
        "\n",
        "Here is an example run:\n",
        "\n",
        "45\n",
        "79\n",
        "61\n",
        "47\n",
        "52\n",
        "10\n",
        "16\n",
        "83\n",
        "19\n",
        "12\n",
        "\n",
        "Each time you run your program you should get different numbers\n",
        "\n",
        "81\n",
        "76\n",
        "70\n",
        "1\n",
        "27\n",
        "63\n",
        "96\n",
        "100\n",
        "32\n",
        "92\n",
        "\n",
        "Recall that the python random library has a function randint which returns an integer in the range set by the parameters (inclusive). For example this call would produce a random integer between 1 and 6, which could include 1 and could include 6:\n",
        "\n",
        "value = random.randint(1, 6)\n",
        "\n",
        "## Starter Code\n",
        "\n",
        "```bash\n",
        "import random\n",
        "\n",
        "N_NUMBERS: int = 10\n",
        "MIN_VALUE: int = 1\n",
        "MAX_VALUE: int = 100\n",
        "\n",
        "def main():\n",
        "    \"\"\"\n",
        "    You should write your code here. Make sure to delete\n",
        "    the 'pass' line before starting to write your own code.\n",
        "    \"\"\"\n",
        "    pass\n",
        "\n",
        "if __name__ == '__main__':\n",
        "    main()\n",
        "\n",
        "```"
      ],
      "metadata": {
        "id": "91Rdv6U5q-Au"
      }
    },
    {
      "cell_type": "code",
      "execution_count": null,
      "metadata": {
        "colab": {
          "base_uri": "https://localhost:8080/"
        },
        "id": "8kdJeDNIfQpk",
        "outputId": "0d2d9496-0c40-4a7c-e8da-0bbd0454f001"
      },
      "outputs": [
        {
          "output_type": "stream",
          "name": "stdout",
          "text": [
            "47 6 10 88 92 53 79 75 52 54 "
          ]
        }
      ],
      "source": [
        "import random\n",
        "\n",
        "for i in range(10):\n",
        "  print(random.randint(1,100), end=\" \")"
      ]
    },
    {
      "cell_type": "markdown",
      "source": [
        "# Problem: Planetary Weight Calculator  \n",
        "\n",
        "## Milestone #1: Mars Weight\n",
        "\n",
        "A few years ago, NASA made history with the first controlled flight on another planet. Its latest Mars Rover, Perseverance, has onboard a 50cm high helicopter called Ingenuity. Ingenuity made its third flight, during which it flew faster and further than it had on any of its test flights on Earth. Interestingly, Ingenuity uses Python for some of its flight modeling software!\n",
        "\n",
        "Ingenuity on the surface of Mars (source: NASA)\n",
        "\n",
        "When programming Ingenuity, one of the things that NASA engineers need to account for is the fact that due to the weaker gravity on Mars, an Earthling's weight on Mars is 37.8% of their weight on Earth. Write a Python program that prompts an Earthling to enter their weight on Earth and prints their calculated weight on Mars.\n",
        "\n",
        "The output should be rounded to two decimal places when necessary. Python has a round function which can help you with this. You pass in the value to be rounded and the number of decimal places to use. In the example below, the number 3.1415926 is rounded to 2 decimal places which is 3.14.\n",
        "\n",
        "```bash\n",
        "x = 3.1415926\n",
        "rounded_x = round(x, 2) # rounds x to 2 decimal places\n",
        "print(rounded_x)\n",
        "\n",
        "# This would print out out 3.14\n",
        "\n",
        "x = 2.71828\n",
        "rounded_x = round(x, 4)\n",
        "print(rounded_x)\n",
        "\n",
        "# This would print out 2.7183\n",
        "\n",
        "x = 3\n",
        "rounded_x = round(x, 4)\n",
        "print(rounded_x)\n",
        "\n",
        "# This would print 3\n",
        "# Note that the round function does not add on decimal places that are not there already\n",
        "\n",
        "Sample Run\n",
        "\n",
        "$ python marsweight.py\n",
        "\n",
        "Enter a weight on Earth: 120\n",
        "\n",
        "The equivalent on Mars: 45.36\n",
        "\n",
        "Sample Run\n",
        "\n",
        "$ python marsweight.py\n",
        "\n",
        "Enter a weight on Earth: 186\n",
        "\n",
        "The equivalent on Mars: 70.31\n",
        "\n",
        "```\n",
        "\n",
        "## Milestone #2: Adding in All Planets\n",
        "\n",
        "Mars is not the only planet in our solar system with its own unique gravity. In fact, each planet has a different gravitational constant, which affects how much an object would weigh on that planet. Below is a list of the constants for each planet compared to Earth's gravity:\n",
        "\n",
        "- Mercury: 37.6%\n",
        "\n",
        "- Venus: 88.9%\n",
        "\n",
        "- Mars: 37.8%\n",
        "\n",
        "- Jupiter: 236.0%\n",
        "\n",
        "- Saturn: 108.1%\n",
        "\n",
        "- Uranus: 81.5%\n",
        "\n",
        "- Neptune: 114.0%\n",
        "\n",
        "Write a Python program that prompts an Earthling to enter their weight on Earth and then to enter the name of a planet in our solar system. The program should print the equivalent weight on that planet rounded to 2 decimal places if necessary.\n",
        "\n",
        "You can assume that the user will always type in a planet with the first letter capitalized and you do not need to worry about the case where they type in something other than one of the above planets.\n",
        "\n",
        "```bash\n",
        "Sample Run\n",
        "\n",
        "$ python planetaryweight.py\n",
        "\n",
        "Enter a weight on Earth: 120\n",
        "\n",
        "Enter a planet: Mars\n",
        "\n",
        "The equivalent weight on Mars: 45.36\n",
        "\n",
        "Sample Run\n",
        "\n",
        "$ python planetaryweight.py\n",
        "\n",
        "Enter a weight on Earth: 150\n",
        "\n",
        "Enter a planet: Jupiter\n",
        "\n",
        "The equivalent weight on Jupiter: 354.0\n",
        "```\n",
        "\n",
        "Useful Syntax\n",
        "\n",
        "Python has an if statement! This if statement passes if the value of x is the same as the value of y. x and y can be literal numbers, strings, variables, or constants.\n",
        "\n",
        "x = 42\n",
        "y = 42\n",
        "\n",
        "if x == y:\n",
        "    print(\"x and y are equal!\")"
      ],
      "metadata": {
        "id": "0K_Gpl_Zu01X"
      }
    },
    {
      "cell_type": "code",
      "source": [
        "def mars_weight():\n",
        "  user_input= float(input(\"Input your Earth weight: \"))\n",
        "  mars_weight : float = user_input * 0.378\n",
        "  rounded_weight : float = round(mars_weight, 2)\n",
        "  print(f\"Your Mars weight is {rounded_weight} kg.\")\n",
        "\n",
        "mars_weight()"
      ],
      "metadata": {
        "colab": {
          "base_uri": "https://localhost:8080/"
        },
        "id": "y3hiSlgMu3CR",
        "outputId": "dbbb16bb-baca-4699-cae9-8b26a52b8a0a"
      },
      "execution_count": null,
      "outputs": [
        {
          "output_type": "stream",
          "name": "stdout",
          "text": [
            "Input your Earth weight: 60\n",
            "Your Mars weight is 22.68 kg.\n"
          ]
        }
      ]
    },
    {
      "cell_type": "code",
      "source": [
        "# Your all planets weight\n",
        "\n",
        "planetary_weight_constants = {\n",
        "    \"Mercury\" : 37.6,\n",
        "    \"Venus\" : 88.9,\n",
        "    \"Mars\": 37.8,\n",
        "    \"Jupiter\": 236.0,\n",
        "    \"Saturn\": 108.1,\n",
        "    \"Uranus\": 81.5,\n",
        "    \"Neptune\": 114.0\n",
        "}\n",
        "\n",
        "def planetary_weight():\n",
        "  earth_wight = int(input(\"Enter your Earth weight please: \"))\n",
        "  planet_of_choice = str(input(\"Enter the name of the planet you are going to visit: \"))\n",
        "  if planet_of_choice in planetary_weight_constants:\n",
        "    planetary_weight = earth_wight * planetary_weight_constants[planet_of_choice] /100\n",
        "    rounded_weight : float = round(planetary_weight, 1)\n",
        "    print(f\"Your weight on planet {planet_of_choice} is {rounded_weight}.\")\n",
        "\n",
        "  else:\n",
        "    print(\"We can only calculate solar system values.\")\n",
        "\n",
        "\n",
        "planetary_weight()"
      ],
      "metadata": {
        "colab": {
          "base_uri": "https://localhost:8080/"
        },
        "id": "kmuXmnerwgAS",
        "outputId": "eb84bb3d-6242-49ec-dcb9-2dc9b62fea31"
      },
      "execution_count": null,
      "outputs": [
        {
          "output_type": "stream",
          "name": "stdout",
          "text": [
            "Enter your Earth weight please: 33\n",
            "Enter the name of the planet you are going to visit: Neptune\n",
            "Your weight on planet Neptune is 37.6.\n"
          ]
        }
      ]
    }
  ]
}