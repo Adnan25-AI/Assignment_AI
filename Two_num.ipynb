{
  "nbformat": 4,
  "nbformat_minor": 0,
  "metadata": {
    "colab": {
      "provenance": [],
      "authorship_tag": "ABX9TyM0900DHvc7BT7mnO2gTb4G",
      "include_colab_link": true
    },
    "kernelspec": {
      "name": "python3",
      "display_name": "Python 3"
    },
    "language_info": {
      "name": "python"
    }
  },
  "cells": [
    {
      "cell_type": "markdown",
      "metadata": {
        "id": "view-in-github",
        "colab_type": "text"
      },
      "source": [
        "<a href=\"https://colab.research.google.com/github/Adnan25-AI/Assignment_AI/blob/main/Two_num.ipynb\" target=\"_parent\"><img src=\"https://colab.research.google.com/assets/colab-badge.svg\" alt=\"Open In Colab\"/></a>"
      ]
    },
    {
      "cell_type": "code",
      "execution_count": 32,
      "metadata": {
        "colab": {
          "base_uri": "https://localhost:8080/"
        },
        "id": "Na1QI4Z_UkFK",
        "outputId": "414c9178-0e28-4de5-da0d-86927a6a3491"
      },
      "outputs": [
        {
          "output_type": "stream",
          "name": "stdout",
          "text": [
            "Enter the 1st Number: 5\n",
            "Enter the 2nd Number: 2\n",
            "The sum of 5 and 2.0 is 2.0\n"
          ]
        }
      ],
      "source": [
        "def main():\n",
        "  return()\n",
        "num1 = int(input(\"Enter the 1st Number: \"))\n",
        "\n",
        "num2 = float(input(\"Enter the 2nd Number: \"))\n",
        "\n",
        "Total = (num1) // (num2)\n",
        "\n",
        "print(f\"The sum of {num1} and {num2} is {Total}\")\n",
        "#print(sum)"
      ]
    },
    {
      "cell_type": "code",
      "source": [
        "def main():\n",
        "    \"\"\"\n",
        "    This function prompts the user to enter two numbers,\n",
        "    calculates their sum, and prints the result.\n",
        "    \"\"\"\n",
        "    # Get the first number from the user\n",
        "    num1 = int(input(\"Enter the 1st number: \"))\n",
        "\n",
        "    # Get the second number from the user\n",
        "    num2 = int(input(\"Enter the 1st number: \"))\n",
        "    # Calculate the sum\n",
        "    total_sum = num1 + num2\n",
        "\n",
        "    # Print the result\n",
        "    print(\"Total Sum\", total_sum)\n",
        "\n",
        "# Call the main function to start the program\n",
        "if __name__ == \"__main__\":\n",
        "    main()"
      ],
      "metadata": {
        "colab": {
          "base_uri": "https://localhost:8080/"
        },
        "id": "0RhroUcKuO0o",
        "outputId": "29a736e4-1664-4426-a305-23e5af120380"
      },
      "execution_count": 2,
      "outputs": [
        {
          "output_type": "stream",
          "name": "stdout",
          "text": [
            "Enter the 1st number: 5\n",
            "Enter the 1st number: 4\n",
            "Total Sum 9\n"
          ]
        }
      ]
    }
  ]
}