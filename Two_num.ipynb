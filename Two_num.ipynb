{
  "nbformat": 4,
  "nbformat_minor": 0,
  "metadata": {
    "colab": {
      "provenance": [],
      "authorship_tag": "ABX9TyNVJ0p1GGLkPMTPXOyksOrD",
      "include_colab_link": true
    },
    "kernelspec": {
      "name": "python3",
      "display_name": "Python 3"
    },
    "language_info": {
      "name": "python"
    }
  },
  "cells": [
    {
      "cell_type": "markdown",
      "metadata": {
        "id": "view-in-github",
        "colab_type": "text"
      },
      "source": [
        "<a href=\"https://colab.research.google.com/github/Adnan25-AI/Assignment_AI/blob/main/Two_num.ipynb\" target=\"_parent\"><img src=\"https://colab.research.google.com/assets/colab-badge.svg\" alt=\"Open In Colab\"/></a>"
      ]
    },
    {
      "cell_type": "code",
      "execution_count": 3,
      "metadata": {
        "colab": {
          "base_uri": "https://localhost:8080/"
        },
        "id": "Na1QI4Z_UkFK",
        "outputId": "ed452c3d-eec0-4a5d-874f-a996ffd857f4"
      },
      "outputs": [
        {
          "output_type": "stream",
          "name": "stdout",
          "text": [
            "Enter the 1st Number: 4\n",
            "Enter the 2nd Number: 6\n",
            "The sum of 4 and 6 is 10\n"
          ]
        }
      ],
      "source": [
        "#def main():\n",
        "#  return()\n",
        "num1 = int(input(\"Enter the 1st Number: \"))\n",
        "num2 = int(input(\"Enter the 2nd Number: \"))\n",
        "\n",
        "Total = (num1) + (num2)\n",
        "\n",
        "print(f\"The sum of {num1} and {num2} is {Total}\")\n",
        "#print(sum)"
      ]
    },
    {
      "cell_type": "code",
      "source": [
        "#def main():\n",
        "\"\"\"\n",
        "This function prompts the user to enter two numbers,\n",
        "calculates their sum, and prints the result.\n",
        "\"\"\"\n",
        "# Get the first number from the user\n",
        "num1 = int(input(\"Enter the 1st number: \"))\n",
        "\n",
        "# Get the second number from the user\n",
        "num2 = int(input(\"Enter the 1st number: \"))\n",
        "# Calculate the sum\n",
        "total_sum = num1 + num2\n",
        "\n",
        "# Print the result\n",
        "print(\"Total Sum\", total_sum)\n",
        "\n",
        "# Call the main function to start the program\n",
        "#if __name__ == \"__main__\":    main()"
      ],
      "metadata": {
        "colab": {
          "base_uri": "https://localhost:8080/"
        },
        "id": "0RhroUcKuO0o",
        "outputId": "df23f0d6-eec6-4a1e-e839-a147170b28e5"
      },
      "execution_count": 7,
      "outputs": [
        {
          "output_type": "stream",
          "name": "stdout",
          "text": [
            "Enter the 1st number: 4\n",
            "Enter the 1st number: 5\n",
            "Total Sum 9\n"
          ]
        }
      ]
    },
    {
      "cell_type": "code",
      "source": [
        "# Favorite Animal\n",
        "favorite_animal = input(\"What's your favorite animal? \")\n",
        "print(f\"My favorite animal is also {favorite_animal}!\")"
      ],
      "metadata": {
        "id": "CxdyifunkODn",
        "outputId": "292bdf3f-f828-45ef-84f0-f8cad9b2ba90",
        "colab": {
          "base_uri": "https://localhost:8080/"
        }
      },
      "execution_count": 8,
      "outputs": [
        {
          "output_type": "stream",
          "name": "stdout",
          "text": [
            "What's your favorite animal? goat\n",
            "My favorite animal is also goat!\n"
          ]
        }
      ]
    },
    {
      "cell_type": "code",
      "source": [
        "# Get the temperature in Fahrenheit from the user\n",
        "fahrenheit = float(input(\"Enter temperature in Fahrenheit: \"))\n",
        "\n",
        "# Convert Fahrenheit to Celsius using the formula\n",
        "celsius = (fahrenheit - 32) * 5.0 / 9.0\n",
        "\n",
        "# Print the result\n",
        "print(f\"Temperature: {fahrenheit}F = {celsius}C\")"
      ],
      "metadata": {
        "id": "NUsmLGPzngf5",
        "outputId": "cb6bec2b-fc97-4c15-859c-0a38dce46433",
        "colab": {
          "base_uri": "https://localhost:8080/"
        }
      },
      "execution_count": 9,
      "outputs": [
        {
          "output_type": "stream",
          "name": "stdout",
          "text": [
            "Enter temperature in Fahrenheit: 110\n",
            "Temperature: 110.0F = 43.333333333333336C\n"
          ]
        }
      ]
    },
    {
      "cell_type": "code",
      "source": [
        "# Age calculate\n",
        "anton_age = 21\n",
        "beth_age = anton_age + 6\n",
        "chen_age = beth_age + 20\n",
        "drew_age = chen_age + anton_age\n",
        "ethan_age = chen_age\n",
        "\n",
        "print(\"Anton is\", anton_age, \"years old.\")\n",
        "print(\"Beth is\", beth_age, \"years old.\")\n",
        "print(\"Chen is\", chen_age, \"years old.\")\n",
        "print(\"Drew is\", drew_age, \"years old.\")\n",
        "print(\"Ethan is\", ethan_age, \"years old.\")"
      ],
      "metadata": {
        "id": "02WJgsmOpMBG",
        "outputId": "ec8988cd-9fbe-424c-c19b-efea2ee9f7c1",
        "colab": {
          "base_uri": "https://localhost:8080/"
        }
      },
      "execution_count": 10,
      "outputs": [
        {
          "output_type": "stream",
          "name": "stdout",
          "text": [
            "Anton is 21 years old.\n",
            "Beth is 27 years old.\n",
            "Chen is 47 years old.\n",
            "Drew is 68 years old.\n",
            "Ethan is 47 years old.\n"
          ]
        }
      ]
    },
    {
      "cell_type": "code",
      "source": [
        "# Get the lengths of the sides from the user\n",
        "side1 = float(input(\"What is the length of side 1? \"))\n",
        "side2 = float(input(\"What is the length of side 2? \"))\n",
        "side3 = float(input(\"What is the length of side 3? \"))\n",
        "\n",
        "perimeter = side1 + side2 + side3\n",
        "\n",
        "print(\"The perimeter of the triangle is\", perimeter)"
      ],
      "metadata": {
        "id": "YyAHxDhSqG2i",
        "outputId": "0e892f91-b934-401f-84ef-e3689017b0de",
        "colab": {
          "base_uri": "https://localhost:8080/"
        }
      },
      "execution_count": 11,
      "outputs": [
        {
          "output_type": "stream",
          "name": "stdout",
          "text": [
            "What is the length of side 1? 4\n",
            "What is the length of side 2? 6\n",
            "What is the length of side 3? 8\n",
            "The perimeter of the triangle is 18.0\n"
          ]
        }
      ]
    },
    {
      "cell_type": "code",
      "source": [
        "# Get the number from the user\n",
        "number = float(input(\"Type a number to see its square: \"))\n",
        "\n",
        "# square = number * number\n",
        "square = number ** 2\n",
        "\n",
        "print(f\"{number} squared is {square}\")"
      ],
      "metadata": {
        "id": "zewTZSi4q3aZ",
        "outputId": "6c0f82d1-d854-4f82-a9b0-04fd5addade1",
        "colab": {
          "base_uri": "https://localhost:8080/"
        }
      },
      "execution_count": 13,
      "outputs": [
        {
          "output_type": "stream",
          "name": "stdout",
          "text": [
            "Type a number to see its square: 4\n",
            "4.0 squared is 16.0\n"
          ]
        }
      ]
    }
  ]
}