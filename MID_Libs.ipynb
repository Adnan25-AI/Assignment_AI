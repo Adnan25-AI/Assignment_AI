{
  "nbformat": 4,
  "nbformat_minor": 0,
  "metadata": {
    "colab": {
      "provenance": [],
      "authorship_tag": "ABX9TyPLCZ1I9VY1e9x+JIst6ZS0",
      "include_colab_link": true
    },
    "kernelspec": {
      "name": "python3",
      "display_name": "Python 3"
    },
    "language_info": {
      "name": "python"
    }
  },
  "cells": [
    {
      "cell_type": "markdown",
      "metadata": {
        "id": "view-in-github",
        "colab_type": "text"
      },
      "source": [
        "<a href=\"https://colab.research.google.com/github/Adnan25-AI/Assignment_AI/blob/main/MID_Libs.ipynb\" target=\"_parent\"><img src=\"https://colab.research.google.com/assets/colab-badge.svg\" alt=\"Open In Colab\"/></a>"
      ]
    },
    {
      "cell_type": "markdown",
      "source": [
        "Mad libs Python Project"
      ],
      "metadata": {
        "id": "QT6rK1VUbMY0"
      }
    },
    {
      "cell_type": "code",
      "execution_count": 3,
      "metadata": {
        "colab": {
          "base_uri": "https://localhost:8080/"
        },
        "id": "Jo4HOhEXbICo",
        "outputId": "63ed5db4-7a79-4f89-b511-bbdba4e19490"
      },
      "outputs": [
        {
          "output_type": "stream",
          "name": "stdout",
          "text": [
            "Enter your hobby: Foot Ball\n",
            "Enter your hobby: Foot ball\n",
            "Foot ball\n",
            "Foot ball\n",
            "This is my hobby as you ask: Foot ball\n"
          ]
        }
      ],
      "source": [
        "var = input(\"Enter your hobby: \")\n",
        "var = input(\"Enter your hobby: \")\n",
        "print(f'{var}')\n",
        "print(var)\n",
        "print(\"This is my hobby as you ask: \" + var)"
      ]
    }
  ]
}