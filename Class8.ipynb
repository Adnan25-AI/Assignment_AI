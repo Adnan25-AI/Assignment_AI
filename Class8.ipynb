{
  "cells": [
    {
      "cell_type": "markdown",
      "metadata": {
        "id": "view-in-github",
        "colab_type": "text"
      },
      "source": [
        "<a href=\"https://colab.research.google.com/github/Adnan25-AI/Assignment_AI/blob/main/Class8.ipynb\" target=\"_parent\"><img src=\"https://colab.research.google.com/assets/colab-badge.svg\" alt=\"Open In Colab\"/></a>"
      ]
    },
    {
      "cell_type": "code",
      "execution_count": null,
      "metadata": {
        "colab": {
          "background_save": true
        },
        "id": "oCGmLJmozMxS",
        "outputId": "51c71124-f010-4d43-8dee-0f9b33228026"
      },
      "outputs": [
        {
          "name": "stdout",
          "output_type": "stream",
          "text": [
            "NUMBER OF TICKES SICNE 2:00AM, JANVUARY 1 1970: 1738401726.5924425\n"
          ]
        }
      ],
      "source": [
        "import time\n",
        "ticks =time.time()\n",
        "print(\"NUMBER OF TICKES SICNE 2:00AM, JANVUARY 1 1970:\",ticks)"
      ]
    },
    {
      "cell_type": "code",
      "source": [
        "import datetime\n",
        "x=datetime.datetime.now()\n",
        "print(x)"
      ],
      "metadata": {
        "colab": {
          "base_uri": "https://localhost:8080/"
        },
        "id": "yCMoKtqj3i89",
        "outputId": "318e2af3-54b6-4d9a-beb0-dd4132572988"
      },
      "execution_count": 12,
      "outputs": [
        {
          "output_type": "stream",
          "name": "stdout",
          "text": [
            "2025-02-01 09:37:04.461197\n"
          ]
        }
      ]
    },
    {
      "cell_type": "code",
      "source": [
        "import calendar\n",
        "cal=calendar.month(2025,2)\n",
        "print(cal)"
      ],
      "metadata": {
        "colab": {
          "base_uri": "https://localhost:8080/"
        },
        "id": "T8d7nKaH33dN",
        "outputId": "ecfaaec1-ff48-48dc-ebc6-2dba598f56cc"
      },
      "execution_count": 13,
      "outputs": [
        {
          "output_type": "stream",
          "name": "stdout",
          "text": [
            "   February 2025\n",
            "Mo Tu We Th Fr Sa Su\n",
            "                1  2\n",
            " 3  4  5  6  7  8  9\n",
            "10 11 12 13 14 15 16\n",
            "17 18 19 20 21 22 23\n",
            "24 25 26 27 28\n",
            "\n"
          ]
        }
      ]
    },
    {
      "cell_type": "code",
      "source": [
        "import datetime\n",
        "x=datetime.datetime(2025,2,1)\n",
        "print(x.strftime(\"%B\"))\n",
        "print(x.strftime(\"%A\"))\n",
        "print(x.strftime(\"%Y\"))\n",
        "print(x.strftime(\"%H\"))\n",
        "print(x.strftime(\"%p\"))"
      ],
      "metadata": {
        "colab": {
          "base_uri": "https://localhost:8080/"
        },
        "id": "nY5X1Hj-4AKA",
        "outputId": "7cc2d92f-4a93-4455-acd2-b15a770fa830"
      },
      "execution_count": 16,
      "outputs": [
        {
          "output_type": "stream",
          "name": "stdout",
          "text": [
            "February\n",
            "Saturday\n",
            "2025\n",
            "00\n",
            "AM\n"
          ]
        }
      ]
    },
    {
      "cell_type": "code",
      "source": [
        "import math\n",
        "print(\"Power(2,3)\",math.pow(2,3))\n",
        "print(\"main.sin(math.pi/2)= \",math.sin(math.pi/2))\n",
        "print(\"main.cos(math.pi/2)= \",math.cos(math.pi/2))\n",
        "print(\"main.tan(math.pi/2)= \",math.tan(math.pi/2))\n",
        "print(\"main.log(100,10)= \",math.log(100,10))\n",
        "print(\"main.log10(100)= \",math.log10(100))\n",
        "print(\"main.log2(100)= \",math.log2(100))\n",
        "print(\"main.sqrt(100)= \",math.sqrt(100))\n",
        "print(\"main.ceil(2.3)= \",math.ceil(2.3))\n",
        "print(\"main.floor(2.3)= \",math.floor(2.3))\n",
        "print(\"main.fabs(-2.3)= \",math.fabs(-2.3))\n",
        "print(\"main.factorial(5)= \",math.factorial(5))\n",
        "print(\"main.fmod(20,4)= \",math.fmod(20,4))\n",
        "print(\"main.frexp(20)= \",math.frexp(20))\n",
        "print(\"main.isfinite(20)= \",math.isfinite(20))\n",
        "print(\"main.isinf(20)= \",math.isinf(20))\n",
        "print(\"main.isnan(20)= \",math.isnan(20))\n",
        "print(\"main.modf(20.2)= \",math.modf(20.2))\n",
        "print(\"main.trunc(20.2)= \",math.trunc(20.2))\n",
        "print(\"main.exp(20)= \",math.exp(20))\n",
        "print(\"main.log1p(20)= \",math.log1p(20))\n",
        "\n",
        "\n"
      ],
      "metadata": {
        "colab": {
          "base_uri": "https://localhost:8080/"
        },
        "id": "WNXf5CvR5XMm",
        "outputId": "a7100c7b-e481-4472-ba7e-c905fe6902a5"
      },
      "execution_count": 24,
      "outputs": [
        {
          "output_type": "stream",
          "name": "stdout",
          "text": [
            "Power(2,3) 8.0\n",
            "main.sin(math.pi/2)=  1.0\n",
            "main.cos(math.pi/2)=  6.123233995736766e-17\n",
            "main.tan(math.pi/2)=  1.633123935319537e+16\n",
            "main.log(100,10)=  2.0\n",
            "main.log10(100)=  2.0\n",
            "main.log2(100)=  6.643856189774724\n",
            "main.sqrt(100)=  10.0\n",
            "main.ceil(2.3)=  3\n",
            "main.floor(2.3)=  2\n",
            "main.fabs(-2.3)=  2.3\n",
            "main.factorial(5)=  120\n",
            "main.fmod(20,4)=  0.0\n",
            "main.frexp(20)=  (0.625, 5)\n",
            "main.isfinite(20)=  True\n",
            "main.isinf(20)=  False\n",
            "main.isnan(20)=  False\n",
            "main.modf(20.2)=  (0.1999999999999993, 20.0)\n",
            "main.trunc(20.2)=  20\n",
            "main.exp(20)=  485165195.4097903\n",
            "main.log1p(20)=  3.044522437723423\n"
          ]
        }
      ]
    },
    {
      "cell_type": "markdown",
      "source": [
        "FILE HANDLING I/O"
      ],
      "metadata": {
        "id": "qI4DD9UVBnsS"
      }
    },
    {
      "cell_type": "code",
      "source": [
        "adnan=open(\"ADNAN\",\"w\")\n",
        "adnan.write(\"This is my class\")\n",
        "adnan.close()"
      ],
      "metadata": {
        "id": "87ijz7e1BC3L"
      },
      "execution_count": 26,
      "outputs": []
    },
    {
      "cell_type": "code",
      "source": [
        "file=open(\"ADNAN\",\"r\")\n",
        "print(file.read())\n",
        "file.close()"
      ],
      "metadata": {
        "colab": {
          "base_uri": "https://localhost:8080/"
        },
        "id": "jKMT6h5ACPIA",
        "outputId": "912b9718-d82b-4cda-e6d2-981ab0858f2b"
      },
      "execution_count": 27,
      "outputs": [
        {
          "output_type": "stream",
          "name": "stdout",
          "text": [
            "This is my class\n"
          ]
        }
      ]
    },
    {
      "cell_type": "code",
      "source": [
        "file=open(\"ADNAN\",\"a\")\n",
        "file.write(\"This is my class\")\n",
        "file.close()"
      ],
      "metadata": {
        "id": "uTJo0tG-Cbpr"
      },
      "execution_count": 33,
      "outputs": []
    },
    {
      "cell_type": "code",
      "source": [
        "file=open(\"ADNAN\",\"r+\")\n",
        "print(file.read())\n",
        "file.close()"
      ],
      "metadata": {
        "colab": {
          "base_uri": "https://localhost:8080/"
        },
        "id": "EOT0d_bKCmFt",
        "outputId": "6d2bdce1-443f-4e82-d6d9-14fe5c9fd07b"
      },
      "execution_count": 34,
      "outputs": [
        {
          "output_type": "stream",
          "name": "stdout",
          "text": [
            "This is my class\n"
          ]
        }
      ]
    },
    {
      "cell_type": "code",
      "source": [
        "file=open(\"ADNAN\",\"w\")\n",
        "print(file.write(\"uncle ki baat kuch aur hai\"))\n",
        "file.close()"
      ],
      "metadata": {
        "colab": {
          "base_uri": "https://localhost:8080/"
        },
        "id": "_ChdeVHoC0eq",
        "outputId": "b896405b-a918-4cb3-c26b-f419b754844f"
      },
      "execution_count": 39,
      "outputs": [
        {
          "output_type": "stream",
          "name": "stdout",
          "text": [
            "26\n"
          ]
        }
      ]
    }
  ],
  "metadata": {
    "colab": {
      "provenance": [],
      "authorship_tag": "ABX9TyOe1UwnyUXfJjVsMGm9cQ7j",
      "include_colab_link": true
    },
    "kernelspec": {
      "display_name": "Python 3",
      "name": "python3"
    },
    "language_info": {
      "name": "python"
    }
  },
  "nbformat": 4,
  "nbformat_minor": 0
}