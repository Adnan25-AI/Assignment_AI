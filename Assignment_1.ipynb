{
  "nbformat": 4,
  "nbformat_minor": 0,
  "metadata": {
    "colab": {
      "provenance": [],
      "authorship_tag": "ABX9TyOiJo/mvfhwuGMIWDMkOZV7",
      "include_colab_link": true
    },
    "kernelspec": {
      "name": "python3",
      "display_name": "Python 3"
    },
    "language_info": {
      "name": "python"
    }
  },
  "cells": [
    {
      "cell_type": "markdown",
      "metadata": {
        "id": "view-in-github",
        "colab_type": "text"
      },
      "source": [
        "<a href=\"https://colab.research.google.com/github/Adnan25-AI/Assignment_AI/blob/main/Assignment_1.ipynb\" target=\"_parent\"><img src=\"https://colab.research.google.com/assets/colab-badge.svg\" alt=\"Open In Colab\"/></a>"
      ]
    },
    {
      "cell_type": "code",
      "source": [
        "# Countdown from 10 to 1\n",
        "import time\n",
        "for cd in range(10,0,-1):\n",
        "  print(cd, end=\" \")\n",
        "  time.sleep(1)\n",
        "print(\"Liftoff!\")"
      ],
      "metadata": {
        "colab": {
          "base_uri": "https://localhost:8080/"
        },
        "id": "WkLfxWmvwE3i",
        "outputId": "4627b47a-8dc0-44a0-a1fb-7014e1a76b17"
      },
      "execution_count": null,
      "outputs": [
        {
          "output_type": "stream",
          "name": "stdout",
          "text": [
            "10 9 8 7 6 5 4 3 2 1 Liftoff!\n"
          ]
        }
      ]
    },
    {
      "cell_type": "code",
      "source": [
        "# Double number repeat that process until the value is 100 or greater.\n",
        "Var = int(input(\"Enter a number: \"))\n",
        "while Var < 50:\n",
        "  Var = Var*2\n",
        "  print(Var)\n"
      ],
      "metadata": {
        "colab": {
          "base_uri": "https://localhost:8080/"
        },
        "id": "TSCvuekwGaM0",
        "outputId": "6f48911f-c60e-4f09-8f77-a0b80a259e66"
      },
      "execution_count": null,
      "outputs": [
        {
          "output_type": "stream",
          "name": "stdout",
          "text": [
            "Enter a number: 22\n",
            "44\n",
            "88\n"
          ]
        }
      ]
    },
    {
      "cell_type": "code",
      "source": [
        "# Joke\n",
        "Joke = (\"Parallel lines have so much in common. It’s a shame they’ll never meet.\")\n",
        "Joke1 = input(\"Enter a Joke: \")\n",
        "if Joke1 == Joke:\n",
        "  print(\"Ha Ha Ha its very funny\")\n",
        "else:\n",
        "  print(\"Sorry I only tell jokes\")"
      ],
      "metadata": {
        "id": "Jh3HZO5pN5l6"
      },
      "execution_count": null,
      "outputs": []
    },
    {
      "cell_type": "code",
      "source": [
        "import random\n",
        "\n",
        "number = random.randint(0, 99)  # Generate a random number between 0 and 99\n",
        "guesses_left = 7  # Set the number of guesses allowed\n",
        "\n",
        "print(\"I am thinking of a number between 0 and 99...\")\n",
        "\n",
        "while guesses_left > 0:\n",
        "    print(f\"You have {guesses_left} guesses left.\")\n",
        "    try:\n",
        "        guess = int(input(\"Enter a guess: \"))\n",
        "    except ValueError:\n",
        "        print(\"Invalid input. Please enter a number.\")\n",
        "        continue\n",
        "\n",
        "    if guess < number:\n",
        "        print(\"Your guess is too low.\")\n",
        "    elif guess > number:\n",
        "        print(\"Your guess is too high.\")\n",
        "    else:\n",
        "        print(f\"Congrats! The number was: {number}\")\n",
        "        break\n",
        "\n",
        "    guesses_left -= 1\n",
        "\n",
        "if guesses_left == 0:\n",
        "    print(f\"Sorry, you ran out of guesses. The number was: {number}\")"
      ],
      "metadata": {
        "colab": {
          "base_uri": "https://localhost:8080/"
        },
        "id": "So7DXKAarSRk",
        "outputId": "992b81d5-df2e-4194-fd98-4d83c6c36583"
      },
      "execution_count": null,
      "outputs": [
        {
          "output_type": "stream",
          "name": "stdout",
          "text": [
            "I am thinking of a number between 0 and 99...\n",
            "You have 7 guesses left.\n",
            "Enter a guess: 18\n",
            "Your guess is too low.\n",
            "You have 6 guesses left.\n",
            "Enter a guess: 7\n",
            "Your guess is too low.\n",
            "You have 5 guesses left.\n",
            "Enter a guess: 30\n",
            "Your guess is too high.\n",
            "You have 4 guesses left.\n",
            "Enter a guess: 20\n",
            "Your guess is too low.\n",
            "You have 3 guesses left.\n",
            "Enter a guess: 25\n",
            "Your guess is too high.\n",
            "You have 2 guesses left.\n",
            "Enter a guess: 28\n",
            "Your guess is too high.\n",
            "You have 1 guesses left.\n",
            "Enter a guess: 26\n",
            "Your guess is too high.\n",
            "Sorry, you ran out of guesses. The number was: 21\n"
          ]
        }
      ]
    },
    {
      "cell_type": "code",
      "source": [
        "import random\n",
        "\n",
        "for _ in range(10):\n",
        "    random_number = random.randint(1, 100)\n",
        "    print(random_number, end=\" \")  # Print with a space separator\n",
        "print()  # Print a newline at the end"
      ],
      "metadata": {
        "colab": {
          "base_uri": "https://localhost:8080/"
        },
        "id": "yeagqKAW0jPT",
        "outputId": "386fbdf7-097f-4678-a643-10aa52e6a362"
      },
      "execution_count": null,
      "outputs": [
        {
          "output_type": "stream",
          "name": "stdout",
          "text": [
            "76 37 97 75 8 92 88 6 88 59 \n"
          ]
        }
      ]
    }
  ]
}