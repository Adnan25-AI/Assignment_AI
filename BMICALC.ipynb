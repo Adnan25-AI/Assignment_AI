{
  "nbformat": 4,
  "nbformat_minor": 0,
  "metadata": {
    "colab": {
      "provenance": [],
      "authorship_tag": "ABX9TyN6Y5GhCKvCxVFWf2mKIMLQ",
      "include_colab_link": true
    },
    "kernelspec": {
      "name": "python3",
      "display_name": "Python 3"
    },
    "language_info": {
      "name": "python"
    }
  },
  "cells": [
    {
      "cell_type": "markdown",
      "metadata": {
        "id": "view-in-github",
        "colab_type": "text"
      },
      "source": [
        "<a href=\"https://colab.research.google.com/github/Adnan25-AI/Assignment_AI/blob/main/BMICALC.ipynb\" target=\"_parent\"><img src=\"https://colab.research.google.com/assets/colab-badge.svg\" alt=\"Open In Colab\"/></a>"
      ]
    },
    {
      "cell_type": "markdown",
      "source": [],
      "metadata": {
        "id": "y_aQOlspqLuX"
      }
    },
    {
      "cell_type": "markdown",
      "source": [
        "Streamlit BMI Calculator"
      ],
      "metadata": {
        "id": "iEv_D5f8qQKl"
      }
    },
    {
      "cell_type": "code",
      "execution_count": null,
      "metadata": {
        "id": "kVX1rZSwqHme"
      },
      "outputs": [],
      "source": [
        "# prompt: Create a Python Streamlit BMI Calculator Web App in Just 6 Minutes,\n",
        "\n",
        "st.title(\"BMI Calculator\")\n",
        "\n",
        "weight = st.number_input(\"Enter your weight in kilograms\", min_value=0.0)\n",
        "height = st.number_input(\"Enter your height in meters\", min_value=0.0)\n",
        "\n",
        "if st.button(\"Calculate BMI\"):\n",
        "    if weight > 0 and height > 0:\n",
        "        bmi = weight / (height ** 2)\n",
        "        st.write(f\"Your BMI is: {bmi:.2f}\")\n",
        "\n",
        "        if bmi < 18.5:\n",
        "            st.write(\"You are underweight.\")\n",
        "        elif bmi < 25:\n",
        "            st.write(\"You are in a healthy weight range.\")\n",
        "        elif bmi < 30:\n",
        "            st.write(\"You are overweight.\")\n",
        "        else:\n",
        "            st.write(\"You are obese.\")\n",
        "    else:\n",
        "        st.write(\"Please enter valid weight and height values.\")\n"
      ]
    }
  ]
}