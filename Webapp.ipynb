{
  "nbformat": 4,
  "nbformat_minor": 0,
  "metadata": {
    "colab": {
      "provenance": [],
      "authorship_tag": "ABX9TyNlFyB4gYNtcykiZm5Fbg4s",
      "include_colab_link": true
    },
    "kernelspec": {
      "name": "python3",
      "display_name": "Python 3"
    },
    "language_info": {
      "name": "python"
    }
  },
  "cells": [
    {
      "cell_type": "markdown",
      "metadata": {
        "id": "view-in-github",
        "colab_type": "text"
      },
      "source": [
        "<a href=\"https://colab.research.google.com/github/Adnan25-AI/Assignment_AI/blob/main/Webapp.ipynb\" target=\"_parent\"><img src=\"https://colab.research.google.com/assets/colab-badge.svg\" alt=\"Open In Colab\"/></a>"
      ]
    },
    {
      "cell_type": "markdown",
      "source": [
        "Python Website in 15 Minutes With Streamlit,"
      ],
      "metadata": {
        "id": "E1nVNeKAqyqq"
      }
    },
    {
      "cell_type": "code",
      "execution_count": null,
      "metadata": {
        "id": "3Ca7dYXXqvBp"
      },
      "outputs": [],
      "source": [
        "# prompt: Build a Python Website in 15 Minutes With Streamlit,\n",
        "\n",
        "# Python Website in 15 Minutes With Streamlit,\n",
        "\n",
        "st.title(\"My First Streamlit App\")\n",
        "\n",
        "st.write(\"Hello, world!\")\n",
        "\n",
        "# Add a text input\n",
        "name = st.text_input(\"Enter your name\", \"Type Here\")\n",
        "st.write(f\"Hello, {name}!\")\n",
        "\n",
        "# Add a slider\n",
        "age = st.slider(\"Select your age\", 0, 130, 25)\n",
        "st.write(f\"Your age is {age}\")\n",
        "\n",
        "# Add a selectbox\n",
        "options = [\"Option 1\", \"Option 2\", \"Option 3\"]\n",
        "selected_option = st.selectbox(\"Choose an option\", options)\n",
        "st.write(f\"You selected {selected_option}\")\n",
        "\n",
        "# Add a button\n",
        "if st.button(\"Click me\"):\n",
        "    st.write(\"Button clicked!\")\n",
        "\n",
        "# Add a checkbox\n",
        "if st.checkbox(\"Show data\"):\n",
        "    st.write(\"Here's some data:\")\n",
        "    # Example data (you can replace this with your own)\n",
        "    import pandas as pd\n",
        "    data = {'col1': [1, 2, 3], 'col2': [4, 5, 6]}\n",
        "    df = pd.DataFrame(data)\n",
        "    st.dataframe(df)\n"
      ]
    }
  ]
}