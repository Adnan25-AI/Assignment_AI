{
  "nbformat": 4,
  "nbformat_minor": 0,
  "metadata": {
    "colab": {
      "provenance": [],
      "authorship_tag": "ABX9TyNGj02oeekE5dWrj8i6iwSl",
      "include_colab_link": true
    },
    "kernelspec": {
      "name": "python3",
      "display_name": "Python 3"
    },
    "language_info": {
      "name": "python"
    }
  },
  "cells": [
    {
      "cell_type": "markdown",
      "metadata": {
        "id": "view-in-github",
        "colab_type": "text"
      },
      "source": [
        "<a href=\"https://colab.research.google.com/github/Adnan25-AI/Assignment_AI/blob/main/PwdGen.ipynb\" target=\"_parent\"><img src=\"https://colab.research.google.com/assets/colab-badge.svg\" alt=\"Open In Colab\"/></a>"
      ]
    },
    {
      "cell_type": "markdown",
      "source": [
        "Password Generator Python Project"
      ],
      "metadata": {
        "id": "HTHAm1NgnxAg"
      }
    },
    {
      "cell_type": "code",
      "execution_count": 2,
      "metadata": {
        "colab": {
          "base_uri": "https://localhost:8080/"
        },
        "id": "Yri5zUQvnfZc",
        "outputId": "747f8ef7-8e60-406b-ed00-ea96969f5251"
      },
      "outputs": [
        {
          "output_type": "stream",
          "name": "stdout",
          "text": [
            "Welcome to your Password Generator:! \n",
            "Amount of passwords to generate: 7\n",
            "Input your password length: 9\n",
            "\n",
            "Here are your passwords: \n",
            "Sq$UnT82L\n",
            "3N0yssEHK\n",
            "bQ*r0Pjns\n",
            "zkKi9S#kN\n",
            "!11594m1E\n",
            "MJ0dvAUB7\n",
            "0taang!Uc\n"
          ]
        }
      ],
      "source": [
        "import random\n",
        "print(\"Welcome to your Password Generator:! \")\n",
        "chars = (\"ABCDEFGHIJKLMNOPQRSTUWXYZabcdefghijklmnopqrstuvwxyz1234567890!@#$%^&*90\")\n",
        "number = int(input(\"Amount of passwords to generate: \"))\n",
        "\n",
        "length = int(input(\"Input your password length: \"))\n",
        "print(\"\\nHere are your passwords: \")\n",
        "for pwd in range(number):\n",
        "    passwords = \"\"\n",
        "    for c in range(length):\n",
        "        passwords += random.choice(chars)\n",
        "    print(passwords)"
      ]
    }
  ]
}