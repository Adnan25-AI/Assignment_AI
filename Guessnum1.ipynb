{
  "nbformat": 4,
  "nbformat_minor": 0,
  "metadata": {
    "colab": {
      "provenance": [],
      "authorship_tag": "ABX9TyOWzc98B0LtqUmAyE6GqJ1U",
      "include_colab_link": true
    },
    "kernelspec": {
      "name": "python3",
      "display_name": "Python 3"
    },
    "language_info": {
      "name": "python"
    }
  },
  "cells": [
    {
      "cell_type": "markdown",
      "metadata": {
        "id": "view-in-github",
        "colab_type": "text"
      },
      "source": [
        "<a href=\"https://colab.research.google.com/github/Adnan25-AI/Assignment_AI/blob/main/Guessnum1.ipynb\" target=\"_parent\"><img src=\"https://colab.research.google.com/assets/colab-badge.svg\" alt=\"Open In Colab\"/></a>"
      ]
    },
    {
      "cell_type": "markdown",
      "source": [
        "Guess the Number Game Python Project (computer)"
      ],
      "metadata": {
        "id": "89oX1c7Hfi0e"
      }
    },
    {
      "cell_type": "code",
      "execution_count": 11,
      "metadata": {
        "colab": {
          "base_uri": "https://localhost:8080/"
        },
        "id": "j_Vni4NXfZn5",
        "outputId": "50edd9a6-96bd-4e98-a8d8-59dfc923b62b"
      },
      "outputs": [
        {
          "output_type": "stream",
          "name": "stdout",
          "text": [
            "Guess a number between 1 and 9: 1\n",
            "You guessed: 1\n",
            "The computer guessed: 4\n",
            "Guess a number between 1 and 9: 4\n",
            "You guessed: 4\n",
            "The computer guessed: 4\n",
            "You win!\n"
          ]
        }
      ],
      "source": [
        "import random\n",
        "\n",
        "def Gnum():\n",
        "  return random.randint(1,9)\n",
        "\n",
        "while True:\n",
        "  user_guess = int(input(\"Guess a number between 1 and 9: \"))\n",
        "  print(f\"You guessed: {user_guess}\")\n",
        "\n",
        "  computer_guess = Gnum()\n",
        "  print(f\"The computer guessed: {computer_guess}\")\n",
        "\n",
        "  if user_guess == computer_guess:\n",
        "    print(\"You win!\")\n",
        "    break # exit the loop if the guess is correct\n"
      ]
    }
  ]
}